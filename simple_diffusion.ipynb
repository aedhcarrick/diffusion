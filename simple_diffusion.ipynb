{
  "nbformat": 4,
  "nbformat_minor": 0,
  "metadata": {
    "colab": {
      "private_outputs": true,
      "provenance": [],
      "gpuType": "T4",
      "authorship_tag": "ABX9TyOQD4WtDBf0rsOURGK+G+EF",
      "include_colab_link": true
    },
    "kernelspec": {
      "name": "python3",
      "display_name": "Python 3"
    },
    "language_info": {
      "name": "python"
    },
    "accelerator": "GPU"
  },
  "cells": [
    {
      "cell_type": "markdown",
      "metadata": {
        "id": "view-in-github",
        "colab_type": "text"
      },
      "source": [
        "<a href=\"https://colab.research.google.com/github/aedhcarrick/simple-diffusion/blob/dev/simple_diffusion.ipynb\" target=\"_parent\"><img src=\"https://colab.research.google.com/assets/colab-badge.svg\" alt=\"Open In Colab\"/></a>"
      ]
    },
    {
      "cell_type": "code",
      "execution_count": null,
      "metadata": {
        "id": "KC3xFaEcc1tX"
      },
      "outputs": [],
      "source": [
        "#@title -=Setup =-\n",
        "!nvidia-smi -L\n",
        "%cd /content\n",
        "!echo -= Download Repo =-\n",
        "!git clone https://github.com/aedhcarrick/diffusion\n",
        "%cd /content/diffusion\n",
        "!git checkout dev\n",
        "!git pull\n",
        "\n",
        "!echo -= Install dependencies =-\n",
        "!pip install xformers!=0.0.18 -r requirements.txt --extra-index-url https://download.pytorch.org/whl/cu118 --extra-index-url https://download.pytorch.org/whl/cu117\n",
        "\n",
        "!echo -= Download Model =-\n",
        "!wget -c https://huggingface.co/XpucT/Deliberate/resolve/main/deliberate_v2.ckpt -O ./models/checkpoints/model.ckpt\n"
      ]
    },
    {
      "cell_type": "code",
      "source": [
        "#@title -= Txt2Img =-\n",
        "!python main.py"
      ],
      "metadata": {
        "id": "7TRbBgszip3J"
      },
      "execution_count": null,
      "outputs": []
    }
  ]
}