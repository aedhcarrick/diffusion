{
  "nbformat": 4,
  "nbformat_minor": 0,
  "metadata": {
    "colab": {
      "private_outputs": true,
      "provenance": [],
      "gpuType": "T4",
      "authorship_tag": "ABX9TyOIUlocwj7WZnmmHKkDTq8C",
      "include_colab_link": true
    },
    "kernelspec": {
      "name": "python3",
      "display_name": "Python 3"
    },
    "language_info": {
      "name": "python"
    },
    "accelerator": "GPU"
  },
  "cells": [
    {
      "cell_type": "markdown",
      "metadata": {
        "id": "view-in-github",
        "colab_type": "text"
      },
      "source": [
        "<a href=\"https://colab.research.google.com/github/aedhcarrick/nacho-diffusion/blob/dev/nacho_diffusion.ipynb\" target=\"_parent\"><img src=\"https://colab.research.google.com/assets/colab-badge.svg\" alt=\"Open In Colab\"/></a>"
      ]
    },
    {
      "cell_type": "code",
      "execution_count": null,
      "metadata": {
        "id": "KC3xFaEcc1tX"
      },
      "outputs": [],
      "source": [
        "#@title -=Setup =-\n",
        "!nvidia-smi -L\n",
        "%cd /content\n",
        "!echo -= Download Repo =-\n",
        "!git clone https://github.com/aedhcarrick/nacho-diffusion\n",
        "%cd /content/nacho-diffusion\n",
        "!git checkout dev\n",
        "!git pull\n",
        "\n",
        "!echo -= Install dependencies =-\n",
        "!pip install xformers!=0.0.18 -r requirements.txt --extra-index-url https://download.pytorch.org/whl/cu118 --extra-index-url https://download.pytorch.org/whl/cu117\n",
        "\n",
        "!echo -= Download Model =-\n",
        "!wget -c https://huggingface.co/XpucT/Deliberate/resolve/main/deliberate_v2.ckpt -O ./models/checkpoints/model.ckpt\n"
      ]
    },
    {
      "cell_type": "code",
      "source": [
        "#@title -= Nacho Generator =-\n",
        "SAMPLER = \"DDIM\" #@param [\"DDIM\", \"DPM\", \"PLMS\"]\n",
        "STEPS = 50 #@param {type:\"slider\", min:\"1\", max:\"100\", step:1}\n",
        "GUIDANCE = 7.5 #@param {type:\"slider\", min:\"1\", max:\"20\", step:0.5}\n",
        "SEED = 42 #@param {type:\"integer\"}\n",
        "BATCH_SIZE = 1 #@param {type:\"integer\"}\n",
        "\n",
        "from image_worker import ImageWorker\n",
        "\n",
        "worker = ImageWorker()\n",
        "job = {\n",
        "    \"sampler\": SAMPLER,\n",
        "    \"steps\": STEPS,\n",
        "    \"guidance\": GUIDANCE,\n",
        "    \"seed\": SEED,\n",
        "    \"batch_size\": BATCH_SIZE,\n",
        "}\n",
        "\n",
        "worker.submit_job('txt2img', job)\n",
        "worker.run()\n"
      ],
      "metadata": {
        "id": "7TRbBgszip3J"
      },
      "execution_count": null,
      "outputs": []
    },
    {
      "cell_type": "code",
      "source": [
        "#@title -= Pytest =-\n",
        "!python -m pytest"
      ],
      "metadata": {
        "id": "5XX_8QIiABzg"
      },
      "execution_count": null,
      "outputs": []
    }
  ]
}